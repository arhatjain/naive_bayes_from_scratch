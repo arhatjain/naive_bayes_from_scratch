{
  "nbformat": 4,
  "nbformat_minor": 0,
  "metadata": {
    "colab": {
      "name": "ml_naive_bayes.ipynb",
      "provenance": [],
      "collapsed_sections": []
    },
    "kernelspec": {
      "name": "python3",
      "display_name": "Python 3"
    },
    "language_info": {
      "name": "python"
    }
  },
  "cells": [
    {
      "cell_type": "code",
      "metadata": {
        "id": "hVrX_U-WswUv"
      },
      "source": [
        ""
      ],
      "execution_count": null,
      "outputs": []
    },
    {
      "cell_type": "code",
      "metadata": {
        "id": "Iw-V7c0Q-ScH"
      },
      "source": [
        "import pandas as pd \n",
        "import numpy as np"
      ],
      "execution_count": null,
      "outputs": []
    },
    {
      "cell_type": "code",
      "metadata": {
        "colab": {
          "base_uri": "https://localhost:8080/"
        },
        "id": "NLbPSnXB_d5v",
        "outputId": "610ce890-99b7-4a56-966f-0b1189eadd4d"
      },
      "source": [
        "data= pd.read_csv(\"bayies.csv\")\n",
        "print(data)\n",
        "data.describe()\n",
        "data.info()"
      ],
      "execution_count": null,
      "outputs": [
        {
          "output_type": "stream",
          "text": [
            "     outlook  temp humidity   wind class\n",
            "0      sunny   hot     high  False     N\n",
            "1      sunny   hot     high   True     N\n",
            "2   overcast   hot     high  False     P\n",
            "3       rain  mild     high  False     P\n",
            "4       rain  cool   normal  False     P\n",
            "5       rain  cool   normal   True     N\n",
            "6   overcast  cool   normal   True     P\n",
            "7      sunny  mild     high  False     N\n",
            "8      sunny  cool   normal  False     P\n",
            "9       rain  mild   normal  False     P\n",
            "10     sunny  mild   normal   True     P\n",
            "11  overcast  mild     high   True     P\n",
            "12  overcast   hot   normal  False     P\n",
            "13      rain  mild     high   True     N\n",
            "<class 'pandas.core.frame.DataFrame'>\n",
            "RangeIndex: 14 entries, 0 to 13\n",
            "Data columns (total 5 columns):\n",
            " #   Column    Non-Null Count  Dtype \n",
            "---  ------    --------------  ----- \n",
            " 0   outlook   14 non-null     object\n",
            " 1   temp      14 non-null     object\n",
            " 2   humidity  14 non-null     object\n",
            " 3   wind      14 non-null     bool  \n",
            " 4   class     14 non-null     object\n",
            "dtypes: bool(1), object(4)\n",
            "memory usage: 590.0+ bytes\n"
          ],
          "name": "stdout"
        }
      ]
    },
    {
      "cell_type": "code",
      "metadata": {
        "colab": {
          "base_uri": "https://localhost:8080/"
        },
        "id": "l_J-brqK_2QF",
        "outputId": "3a51ae53-1d31-44c7-decd-df8db2e9e295"
      },
      "source": [
        "X = data.iloc[:,:5].values\n",
        "print(X)"
      ],
      "execution_count": null,
      "outputs": [
        {
          "output_type": "stream",
          "text": [
            "[['sunny' 'hot' 'high' False 'N']\n",
            " ['sunny' 'hot' 'high' True 'N']\n",
            " ['overcast' 'hot' 'high' False 'P']\n",
            " ['rain' 'mild' 'high' False 'P']\n",
            " ['rain' 'cool' 'normal' False 'P']\n",
            " ['rain' 'cool' 'normal' True 'N']\n",
            " ['overcast' 'cool' 'normal' True 'P']\n",
            " ['sunny' 'mild' 'high' False 'N']\n",
            " ['sunny' 'cool' 'normal' False 'P']\n",
            " ['rain' 'mild' 'normal' False 'P']\n",
            " ['sunny' 'mild' 'normal' True 'P']\n",
            " ['overcast' 'mild' 'high' True 'P']\n",
            " ['overcast' 'hot' 'normal' False 'P']\n",
            " ['rain' 'mild' 'high' True 'N']]\n"
          ],
          "name": "stdout"
        }
      ]
    },
    {
      "cell_type": "code",
      "metadata": {
        "id": "wq8ZKzJXC_at"
      },
      "source": [
        ""
      ],
      "execution_count": null,
      "outputs": []
    },
    {
      "cell_type": "code",
      "metadata": {
        "id": "XUOuMH0DCQNa"
      },
      "source": [
        " \n",
        "def prediction(outlook,temperature,humidity,windy):\n",
        "  counto=0\n",
        "  countoy=0\n",
        "  countt=0\n",
        "  countty=0\n",
        "  counth=0\n",
        "  counthy=0\n",
        "  countw=0\n",
        "  countwy=0\n",
        "  county=0\n",
        "  for i in X:\n",
        "    \n",
        "    if i[0] == outlook and  i[4] == \"P\":\n",
        "      countoy+=1\n",
        "    if i[0]==outlook:\n",
        "      counto+=1\n",
        "    if i[1] == temperature and  i[4] == \"P\":\n",
        "      countty+=1\n",
        "    if i[1]==temperature:\n",
        "      countt+=1\n",
        "    if i[2] == humidity and  i[4] == \"P\":\n",
        "      counthy+=1\n",
        "    if i[2]==humidity:\n",
        "      counth+=1\n",
        "    if i[3] == windy and  i[4] == \"P\":\n",
        "      countw+=1\n",
        "    if i[3]==windy:\n",
        "      countwy+=1\n",
        "    if i[4] == \"P\":\n",
        "      county+=1\n",
        "  \n",
        "  try:\n",
        "    py= (countoy/counto ) *(countty/countt ) *(counthy/counth ) *(countwy/countw ) *(county/len(X))\n",
        "  except ZeroDivisionError:\n",
        "    print(\"zero error\")\n",
        "  counto=0\n",
        "  countoy=0\n",
        "  countt=0\n",
        "  countty=0\n",
        "  counth=0\n",
        "  counthy=0\n",
        "  countw=0\n",
        "  countwy=0\n",
        "  county=0  \n",
        "  for i in X:\n",
        "    \n",
        "    if i[0] == outlook and  i[4] == \"N\":\n",
        "      countoy+=1\n",
        "    if i[0]==outlook:\n",
        "      counto+=1\n",
        "    if i[1] == temperature and  i[4] == \"N\":\n",
        "      countty+=1\n",
        "    if i[1]==temperature:\n",
        "      countt+=1\n",
        "    if i[2] == humidity and  i[4] == \"N\":\n",
        "      counthy+=1\n",
        "    if i[2]==humidity:\n",
        "      counth+=1\n",
        "    if i[3] == windy and  i[4] == \"N\":\n",
        "      countw+=1\n",
        "    if i[3]==windy:\n",
        "      countwy+=1\n",
        "    if i[4] == \"N\":\n",
        "      county+=1\n",
        "  try:\n",
        "    pn= (countoy/counto ) *(countty/countt ) *(counthy/counth ) *(countwy/countw ) *(county/len(X))\n",
        "  except ZeroDivisionError:\n",
        "    print(\"zero error\")\n",
        " \n",
        "  p_yes=py/(py+pn)\n",
        "  p_no=pn/(py+pn)\n",
        "  if p_yes>p_no:\n",
        "    print(\"yes\")\n",
        "  \n",
        "  else:\n",
        "    print(\"no\")\n",
        " \n",
        "  print(py,pn)\n",
        "  print(p_yes,p_no)"
      ],
      "execution_count": null,
      "outputs": []
    },
    {
      "cell_type": "code",
      "metadata": {
        "colab": {
          "base_uri": "https://localhost:8080/"
        },
        "id": "Z23tk8hMEAi5",
        "outputId": "247de9b1-dfac-4470-84ac-de26fda34f00"
      },
      "source": [
        "prediction('sunny', 'hot', 'normal', False)"
      ],
      "execution_count": null,
      "outputs": [
        {
          "output_type": "stream",
          "text": [
            "yes\n",
            "0.1469387755102041 0.06122448979591836\n",
            "0.7058823529411765 0.2941176470588235\n"
          ],
          "name": "stdout"
        }
      ]
    },
    {
      "cell_type": "code",
      "metadata": {
        "id": "0AfBX0AzEAoI"
      },
      "source": [
        "from sklearn.naive_bayes import GaussianNB"
      ],
      "execution_count": null,
      "outputs": []
    },
    {
      "cell_type": "code",
      "metadata": {
        "id": "pH8i8hGl3LSC"
      },
      "source": [
        "data=data.replace({\n",
        "  'sunny':0, 'overcast':1, 'rain':2,\n",
        "  'hot':0, 'mild':1, 'cool':2,\n",
        "  'high':0, 'normal':1,\n",
        "  False:0,  True:1,\n",
        "  'N':0, 'P':1\n",
        "})"
      ],
      "execution_count": null,
      "outputs": []
    },
    {
      "cell_type": "code",
      "metadata": {
        "colab": {
          "base_uri": "https://localhost:8080/"
        },
        "id": "Cb5UnrzO3iyM",
        "outputId": "9514ee94-fc54-45ca-a342-309a5cd02615"
      },
      "source": [
        "data.iloc[:,4].unique()"
      ],
      "execution_count": null,
      "outputs": [
        {
          "output_type": "execute_result",
          "data": {
            "text/plain": [
              "array([0, 1])"
            ]
          },
          "metadata": {
            "tags": []
          },
          "execution_count": 9
        }
      ]
    },
    {
      "cell_type": "code",
      "metadata": {
        "colab": {
          "base_uri": "https://localhost:8080/"
        },
        "id": "Aw3Vjx2f2TWi",
        "outputId": "1c1036dd-b1f8-4f99-bbbd-9c9a970bae3f"
      },
      "source": [
        "clf =GaussianNB()\n",
        "clf.fit(data.iloc[:,0:4],data.iloc[:,-1])"
      ],
      "execution_count": null,
      "outputs": [
        {
          "output_type": "execute_result",
          "data": {
            "text/plain": [
              "GaussianNB(priors=None, var_smoothing=1e-09)"
            ]
          },
          "metadata": {
            "tags": []
          },
          "execution_count": 10
        }
      ]
    },
    {
      "cell_type": "code",
      "metadata": {
        "id": "70_b4HJU4RBu"
      },
      "source": [
        "a=clf.predict([[0, 0, 1, 0]])\n",
        "pr=clf.predict_proba([[0, 0, 1, 0]])"
      ],
      "execution_count": null,
      "outputs": []
    },
    {
      "cell_type": "code",
      "metadata": {
        "colab": {
          "base_uri": "https://localhost:8080/"
        },
        "id": "TJ2ZSnWd5Wd8",
        "outputId": "21970481-a776-4458-d928-4c36eaffd87f"
      },
      "source": [
        "print(a,pr)"
      ],
      "execution_count": null,
      "outputs": [
        {
          "output_type": "stream",
          "text": [
            "[1] [[0.161923 0.838077]]\n"
          ],
          "name": "stdout"
        }
      ]
    }
  ]
}